{
  "cells": [
    {
      "cell_type": "markdown",
      "metadata": {
        "id": "view-in-github",
        "colab_type": "text"
      },
      "source": [
        "<a href=\"https://colab.research.google.com/github/atenash/data-science-course/blob/main/Assignment1.ipynb\" target=\"_parent\"><img src=\"https://colab.research.google.com/assets/colab-badge.svg\" alt=\"Open In Colab\"/></a>"
      ]
    },
    {
      "cell_type": "code",
      "execution_count": 7,
      "metadata": {
        "colab": {
          "base_uri": "https://localhost:8080/"
        },
        "id": "c9wLnCjbgbF3",
        "outputId": "5ae5d2a5-3a80-45d4-e615-41f2f118f0da"
      },
      "outputs": [
        {
          "output_type": "stream",
          "name": "stdout",
          "text": [
            "please insert a:5\n",
            "please insert b:6\n",
            "please insert c:7\n",
            "14.696938456699069\n"
          ]
        }
      ],
      "source": [
        "#1. Write a Python Program to calculate the area of a triangle using Heron's formula (see below). Use the input() function to get the user input for values of a, b, and c.**\n",
        "a=float(input(\"please insert a:\"))\n",
        "b=float(input(\"please insert b:\"))\n",
        "c=float(input(\"please insert c:\"))\n",
        "s=(a+b+c)/2\n",
        "area=(s*(s-a)*(s-b)*(s-c))**(1/2)\n",
        "print(area)"
      ]
    },
    {
      "cell_type": "code",
      "execution_count": null,
      "metadata": {
        "id": "Av1Wx1BSiu12",
        "colab": {
          "base_uri": "https://localhost:8080/"
        },
        "outputId": "adef385d-e983-4cee-a256-0404c475b70e"
      },
      "outputs": [
        {
          "data": {
            "text/plain": [
              "9"
            ]
          },
          "execution_count": 10,
          "metadata": {},
          "output_type": "execute_result"
        }
      ],
      "source": [
        "#2. Write a code to generate a random number.**To generate random number in Python, randint() function is used. \n",
        "#This function is defined in random module.\n",
        "import random\n",
        "a=random.randint(2,60)\n",
        "print(a)"
      ]
    },
    {
      "cell_type": "code",
      "execution_count": null,
      "metadata": {
        "colab": {
          "base_uri": "https://localhost:8080/"
        },
        "id": "AhazRmPrq2bk",
        "outputId": "30d59338-e181-4126-9938-2bcadfb0a9f5"
      },
      "outputs": [
        {
          "name": "stdout",
          "output_type": "stream",
          "text": [
            "please insert a number:-7\n",
            "-7.0  is a negetive number\n"
          ]
        }
      ],
      "source": [
        "#3. Write a program to check if a number is positive, negative or 0.\n",
        "#`This problem is solved using if...elif...else and nested if...else statement.\n",
        "a=float(input(\"please insert a number:\"))\n",
        "if a!=0:\n",
        "  if a>0:\n",
        "    print( str(a) +\"  \"+ \"is a positive number\")\n",
        "  elif a<0:\n",
        "    print(str(a)+ \"  \"+\"is a negetive number\")\n",
        "else:\n",
        "  print(str(a)+ \"  \"+ \"is ZERO\")"
      ]
    },
    {
      "cell_type": "code",
      "execution_count": null,
      "metadata": {
        "colab": {
          "base_uri": "https://localhost:8080/"
        },
        "id": "q-ZXkLY3sEVo",
        "outputId": "6531695a-fff9-4ed5-beee-28b29f51393a"
      },
      "outputs": [
        {
          "name": "stdout",
          "output_type": "stream",
          "text": [
            "please insert elements of a list seperated by space:21 46 85 26\n",
            "\n",
            "\n",
            "0 21\n",
            "1 46\n",
            "2 85\n",
            "3 26\n"
          ]
        }
      ],
      "source": [
        "#4. Write a program to return the index and value of each item in a list using a 'for' loop.*\n",
        "#*`Hint````For example if the list is [21, 44, 35, 11], the output should be be\n",
        "#0 21\n",
        "#1 44\n",
        "#2 35\n",
        "#3 11\n",
        "first_input=input('please insert elements of a list seperated by space:')\n",
        "print(\"\\n\")\n",
        "my_list= first_input.split()\n",
        "for i in range(len(my_list)):\n",
        "  print(i,my_list[i])\n"
      ]
    },
    {
      "cell_type": "code",
      "execution_count": 11,
      "metadata": {
        "colab": {
          "base_uri": "https://localhost:8080/"
        },
        "id": "Y6Q7CtDbIgp_",
        "outputId": "5552e7ba-a188-4f1b-da33-f07b60ebe762"
      },
      "outputs": [
        {
          "output_type": "stream",
          "name": "stdout",
          "text": [
            "Enter the number: 66\n",
            "66 is not a prime number\n"
          ]
        }
      ],
      "source": [
        "#5. Write a Python Program to check whether an integer is a prime number or not.\n",
        "#**`Hint`Prime numbers are numbers that have only 2 factors: 1 and themselves. For example, the first 5 prime numbers are 2, 3, 5, 7\n",
        "\n",
        "num = int(input(\"Enter the number: \"))\n",
        "if (num==1):\n",
        "  print(num, \"is not prime\")\n",
        "elif (num==2):\n",
        "    print(num, \"is a prime number\")\n",
        "for i in range(2,num):\n",
        "    if ((num % i) == 0):\n",
        "        print(num,\"is not a prime number\")\n",
        "        break\n",
        "    else:\n",
        "        print(num,\"is a prime number\")\n",
        "        break\n"
      ]
    },
    {
      "cell_type": "code",
      "execution_count": null,
      "metadata": {
        "colab": {
          "base_uri": "https://localhost:8080/"
        },
        "id": "anz3PfzpMtij",
        "outputId": "a9017705-c213-4a0c-fa92-27ca83f3bd9f"
      },
      "outputs": [
        {
          "name": "stdout",
          "output_type": "stream",
          "text": [
            "Please enter your sentence:  such a nice day\n",
            "a day nice such "
          ]
        }
      ],
      "source": [
        "#6. Write a Python Program to sort words in a sentence in alphabetic order\n",
        "#**For this program, you can make use of String Methods here:https://www.w3schools.com/python/python_strings_methods.asp\n",
        "my_sentence=input(\"Please enter your sentence:\"+\"  \")\n",
        "sentence=my_sentence.split()\n",
        "sentence.sort()\n",
        "for word in sentence:\n",
        "  print(word,end=\" \")\n"
      ]
    },
    {
      "cell_type": "code",
      "execution_count": null,
      "metadata": {
        "colab": {
          "base_uri": "https://localhost:8080/"
        },
        "id": "v6CMiwBbQgAH",
        "outputId": "2f554711-0506-4150-f362-c9c47d15efd2"
      },
      "outputs": [
        {
          "name": "stdout",
          "output_type": "stream",
          "text": [
            "[1, 2, 3, 4, 5]\n",
            "[3, 4, 5]\n",
            "[1, 2]\n",
            "[3, 4]\n",
            "[1, 3, 5]\n"
          ]
        }
      ],
      "source": [
        "#7. Write a Python program to make 4 slices to the list ([1, 2, 3, 4, 5]).****The 5 outputs should be:**\n",
        "#[1, 2, 3, 4, 5] --> (the first output is the list with all elements)\n",
        "#[3, 4, 5]\n",
        "#[1, 2]\n",
        "#[3, 4]\n",
        "#[1, 3, 5]\n",
        "#The format for list slicing is [start:stop:step].start is the index of the list where slicing starts.stop is the index of the list where slicing ends.\n",
        "#step allows you to select nth item within the range start to stop.\n",
        "list1=[1,2,3,4,5]\n",
        "print(list1[:])\n",
        "print(list1[2:])\n",
        "print(list1[:2])\n",
        "print(list1[2:4])\n",
        "print(list1[0:6:2])\n"
      ]
    },
    {
      "cell_type": "code",
      "execution_count": null,
      "metadata": {
        "colab": {
          "base_uri": "https://localhost:8080/"
        },
        "id": "6qBqmuYGj3As",
        "outputId": "bf74f8de-0b3e-4661-ea6e-7c1dcee2176c"
      },
      "outputs": [
        {
          "data": {
            "text/plain": [
              "array(['1', 'a', '3', '4', '5'], dtype='<U21')"
            ]
          },
          "execution_count": 94,
          "metadata": {},
          "output_type": "execute_result"
        }
      ],
      "source": [
        "\n",
        "#8. Write a Python Program to concatenate two lists by (1) declaring a function that takes the two lists as parameters and returns the concatenation result, \n",
        "#and (2) calls the function using the lists below:**\n",
        "#list_1 = [1, 'a']\n",
        "#list_2 = [3, 4, 5]\n",
        "#Hint: output will be [1, 'a', 3, 4, 5]\n",
        "from numpy.lib.function_base import append\n",
        "def my_concat(list2,list3):\n",
        "  list4=append(list2,list3)\n",
        "  return list4\n",
        "my_concat([1,'a'],[3,4,5])"
      ]
    },
    {
      "cell_type": "code",
      "execution_count": null,
      "metadata": {
        "id": "niBBMOoUm3EM"
      },
      "outputs": [],
      "source": [
        "#9. Using python, create a file with two numbers in it. Write a Python Program to (1) read the 2 numbers from the file, (2) add and subtract the numbers,\n",
        "# and (3) write the results in another file called 'result.txt' (include this file with your submission).**\n",
        "\n",
        "f=open(\"demofiles.txt\",\"w\")\n",
        "f.close()\n",
        "numbers=[6,9]\n",
        "add=0\n",
        "sub=0\n",
        "\n"
      ]
    },
    {
      "cell_type": "code",
      "execution_count": null,
      "metadata": {
        "id": "f82Dcyu5t2m0",
        "colab": {
          "base_uri": "https://localhost:8080/"
        },
        "outputId": "071d119c-2000-4672-8bec-a8c3efbbe461"
      },
      "outputs": [
        {
          "output_type": "stream",
          "name": "stdout",
          "text": [
            "Done\n"
          ]
        }
      ],
      "source": [
        "with open(\"demofiles.txt\",\"w\") as f:\n",
        "  for number in numbers:\n",
        "    f.write(str(number) + \"\\n\")\n",
        "  print('Done')\n",
        "f.close()\n"
      ]
    },
    {
      "cell_type": "code",
      "source": [
        "with open(\"demofiles.txt\",\"r\") as f:\n",
        "  for number in numbers:\n",
        "    f.read(number)\n",
        "    add+=number\n",
        "    sub=number-sub\n",
        "f.close()\n",
        "\n"
      ],
      "metadata": {
        "id": "8SeKjHYXvrrg"
      },
      "execution_count": null,
      "outputs": []
    },
    {
      "cell_type": "code",
      "execution_count": null,
      "metadata": {
        "colab": {
          "base_uri": "https://localhost:8080/"
        },
        "id": "nQwLe-3Bx0Mf",
        "outputId": "fd7cce32-8b6c-4240-c449-1543e6bf5b2c"
      },
      "outputs": [
        {
          "output_type": "execute_result",
          "data": {
            "text/plain": [
              "18"
            ]
          },
          "metadata": {},
          "execution_count": 47
        }
      ],
      "source": [
        "add\n",
        "sub\n",
        "f1=open(\"result.txt\",\"w\")\n",
        "f1.write(\"add result is:\" + \"  \" + str(add)+ \"\\n\")\n",
        "f1.write(\"sub result is:\" + \"  \" + str(sub) + \"\\n\")\n"
      ]
    },
    {
      "cell_type": "code",
      "execution_count": null,
      "metadata": {
        "colab": {
          "base_uri": "https://localhost:8080/"
        },
        "id": "wqf8bPFzybPl",
        "outputId": "5e848186-1257-4c46-b4b6-b79fd5d80366"
      },
      "outputs": [
        {
          "name": "stdout",
          "output_type": "stream",
          "text": [
            "61\n"
          ]
        }
      ],
      "source": [
        "#10. Using the function enumerate() and a 'for' loop, determine the value of 'y' for a polynomial given the following:**\n",
        "#x = 6\n",
        "#coefs = [3,4,1]\n",
        "#y = coefs[0] * x ** 0 + coefs[1] * x ** 1 + coefs[2] * x ** 2\n",
        "#where coefs is a list containing coefficients for the:\n",
        "    #constant term (first list element),\n",
        "    #linear term (second list element), and \n",
        "    #quadratic term (third list element).\n",
        "x=6\n",
        "coefs=[3,4,1]\n",
        "y=0\n",
        "for count, value in enumerate(coefs):\n",
        "  y+=(coefs[count]*x)**count\n",
        "print(y)\n"
      ]
    },
    {
      "cell_type": "code",
      "execution_count": null,
      "metadata": {
        "id": "zEfv6rcfyt4V"
      },
      "outputs": [],
      "source": []
    },
    {
      "cell_type": "code",
      "execution_count": null,
      "metadata": {
        "id": "0FadQnE8z1Gn"
      },
      "outputs": [],
      "source": []
    },
    {
      "cell_type": "code",
      "execution_count": null,
      "metadata": {
        "id": "TouoA1Qrz4QK"
      },
      "outputs": [],
      "source": []
    }
  ],
  "metadata": {
    "colab": {
      "provenance": [],
      "include_colab_link": true
    },
    "kernelspec": {
      "name": "python3",
      "display_name": "Python 3"
    },
    "language_info": {
      "name": "python"
    }
  },
  "nbformat": 4,
  "nbformat_minor": 0
}