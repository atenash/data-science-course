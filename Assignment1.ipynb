{
  "nbformat": 4,
  "nbformat_minor": 0,
  "metadata": {
    "colab": {
      "provenance": [],
      "authorship_tag": "ABX9TyMxgtdvs+g1FaqE5PAULZF8",
      "include_colab_link": true
    },
    "kernelspec": {
      "name": "python3",
      "display_name": "Python 3"
    },
    "language_info": {
      "name": "python"
    }
  },
  "cells": [
    {
      "cell_type": "markdown",
      "metadata": {
        "id": "view-in-github",
        "colab_type": "text"
      },
      "source": [
        "<a href=\"https://colab.research.google.com/github/atenash/data-science-course/blob/main/Assignment1.ipynb\" target=\"_parent\"><img src=\"https://colab.research.google.com/assets/colab-badge.svg\" alt=\"Open In Colab\"/></a>"
      ]
    },
    {
      "cell_type": "code",
      "execution_count": 3,
      "metadata": {
        "colab": {
          "base_uri": "https://localhost:8080/"
        },
        "id": "c9wLnCjbgbF3",
        "outputId": "1b957a44-4c03-4119-dcdd-1b11bcd1d64d"
      },
      "outputs": [
        {
          "output_type": "stream",
          "name": "stdout",
          "text": [
            "please insert base of triangle:5\n",
            "please insert height of triangle:3\n",
            "7.5\n"
          ]
        }
      ],
      "source": [
        "#1. Write a Python Program to calculate the area of a triangle using Heron's formula (see below). Use the input() function to get the user input for values of a, b, and c.**\n",
        "base=int(input(\"please insert base of triangle:\"))\n",
        "height=int(input(\"please insert height of triangle:\"))\n",
        "area=(base*height)/2\n",
        "print(area)"
      ]
    },
    {
      "cell_type": "code",
      "source": [
        "#2. Write a code to generate a random number.**To generate random number in Python, randint() function is used. \n",
        "#This function is defined in random module.\n",
        "import random\n",
        "a=random.randint(2,60)\n",
        "print(a)"
      ],
      "metadata": {
        "id": "Av1Wx1BSiu12",
        "colab": {
          "base_uri": "https://localhost:8080/"
        },
        "outputId": "adef385d-e983-4cee-a256-0404c475b70e"
      },
      "execution_count": 10,
      "outputs": [
        {
          "output_type": "execute_result",
          "data": {
            "text/plain": [
              "9"
            ]
          },
          "metadata": {},
          "execution_count": 10
        }
      ]
    },
    {
      "cell_type": "code",
      "source": [
        "#3. Write a program to check if a number is positive, negative or 0.\n",
        "#`This problem is solved using if...elif...else and nested if...else statement.\n",
        "a=float(input(\"please insert a number:\"))\n",
        "if a!=0:\n",
        "  if a>0:\n",
        "    print( str(a) +\"  \"+ \"is a positive number\")\n",
        "  elif a<0:\n",
        "    print(str(a)+ \"  \"+\"is a negetive number\")\n",
        "else:\n",
        "  print(str(a)+ \"  \"+ \"is ZERO\")"
      ],
      "metadata": {
        "colab": {
          "base_uri": "https://localhost:8080/"
        },
        "id": "AhazRmPrq2bk",
        "outputId": "30d59338-e181-4126-9938-2bcadfb0a9f5"
      },
      "execution_count": 84,
      "outputs": [
        {
          "output_type": "stream",
          "name": "stdout",
          "text": [
            "please insert a number:-7\n",
            "-7.0  is a negetive number\n"
          ]
        }
      ]
    },
    {
      "cell_type": "code",
      "source": [
        "#4. Write a program to return the index and value of each item in a list using a 'for' loop.*\n",
        "#*`Hint````For example if the list is [21, 44, 35, 11], the output should be be\n",
        "#0 21\n",
        "#1 44\n",
        "#2 35\n",
        "#3 11\n",
        "first_input=input('please insert elements of a list seperated by space:')\n",
        "print(\"\\n\")\n",
        "my_list= first_input.split()\n",
        "for i in range(len(my_list)):\n",
        "  print(i,my_list[i])\n"
      ],
      "metadata": {
        "colab": {
          "base_uri": "https://localhost:8080/"
        },
        "id": "q-ZXkLY3sEVo",
        "outputId": "6531695a-fff9-4ed5-beee-28b29f51393a"
      },
      "execution_count": 89,
      "outputs": [
        {
          "output_type": "stream",
          "name": "stdout",
          "text": [
            "please insert elements of a list seperated by space:21 46 85 26\n",
            "\n",
            "\n",
            "0 21\n",
            "1 46\n",
            "2 85\n",
            "3 26\n"
          ]
        }
      ]
    },
    {
      "cell_type": "code",
      "source": [
        "#5. Write a Python Program to check whether an integer is a prime number or not.\n",
        "#**`Hint`Prime numbers are numbers that have only 2 factors: 1 and themselves. For example, the first 5 prime numbers are 2, 3, 5, 7\n",
        "\n",
        "num = int(input(\"Enter the number: \"))\n",
        "\n",
        "if (num==2):\n",
        "    print(num, \"is a prime number\")\n",
        "for i in range(2,num):\n",
        "    if ((num % i) == 0):\n",
        "        print(num,\"is not a prime number\")\n",
        "        break\n",
        "    else:\n",
        "        print(num,\"is a prime number\")\n",
        "        break\n"
      ],
      "metadata": {
        "colab": {
          "base_uri": "https://localhost:8080/"
        },
        "id": "Y6Q7CtDbIgp_",
        "outputId": "60277656-677d-4af3-e8e2-49c427c2bcb0"
      },
      "execution_count": 28,
      "outputs": [
        {
          "output_type": "stream",
          "name": "stdout",
          "text": [
            "Enter the number: 87\n",
            "87 is a prime number\n"
          ]
        }
      ]
    },
    {
      "cell_type": "code",
      "source": [
        "#6. Write a Python Program to sort words in a sentence in alphabetic order\n",
        "#**For this program, you can make use of String Methods here:https://www.w3schools.com/python/python_strings_methods.asp\n",
        "my_sentence=input(\"Please enter your sentence:\"+\"  \")\n",
        "sentence=my_sentence.split()\n",
        "sentence.sort()\n",
        "for word in sentence:\n",
        "  print(word,end=\" \")\n"
      ],
      "metadata": {
        "colab": {
          "base_uri": "https://localhost:8080/"
        },
        "id": "anz3PfzpMtij",
        "outputId": "a9017705-c213-4a0c-fa92-27ca83f3bd9f"
      },
      "execution_count": 92,
      "outputs": [
        {
          "output_type": "stream",
          "name": "stdout",
          "text": [
            "Please enter your sentence:  such a nice day\n",
            "a day nice such "
          ]
        }
      ]
    },
    {
      "cell_type": "code",
      "source": [
        "#7. Write a Python program to make 4 slices to the list ([1, 2, 3, 4, 5]).****The 5 outputs should be:**\n",
        "#[1, 2, 3, 4, 5] --> (the first output is the list with all elements)\n",
        "#[3, 4, 5]\n",
        "#[1, 2]\n",
        "#[3, 4]\n",
        "#[1, 3, 5]\n",
        "#The format for list slicing is [start:stop:step].start is the index of the list where slicing starts.stop is the index of the list where slicing ends.\n",
        "#step allows you to select nth item within the range start to stop.\n",
        "list1=[1,2,3,4,5]\n",
        "print(list1[:])\n",
        "print(list1[2:])\n",
        "print(list1[:2])\n",
        "print(list1[2:4])\n",
        "print(list1[0:6:2])\n"
      ],
      "metadata": {
        "colab": {
          "base_uri": "https://localhost:8080/"
        },
        "id": "v6CMiwBbQgAH",
        "outputId": "2f554711-0506-4150-f362-c9c47d15efd2"
      },
      "execution_count": 93,
      "outputs": [
        {
          "output_type": "stream",
          "name": "stdout",
          "text": [
            "[1, 2, 3, 4, 5]\n",
            "[3, 4, 5]\n",
            "[1, 2]\n",
            "[3, 4]\n",
            "[1, 3, 5]\n"
          ]
        }
      ]
    },
    {
      "cell_type": "code",
      "source": [
        "\n",
        "#8. Write a Python Program to concatenate two lists by (1) declaring a function that takes the two lists as parameters and returns the concatenation result, \n",
        "#and (2) calls the function using the lists below:**\n",
        "#list_1 = [1, 'a']\n",
        "#list_2 = [3, 4, 5]\n",
        "#Hint: output will be [1, 'a', 3, 4, 5]\n",
        "from numpy.lib.function_base import append\n",
        "def my_concat(list2,list3):\n",
        "  list4=append(list2,list3)\n",
        "  return list4\n",
        "my_concat([1,'a'],[3,4,5])"
      ],
      "metadata": {
        "colab": {
          "base_uri": "https://localhost:8080/"
        },
        "id": "6qBqmuYGj3As",
        "outputId": "bf74f8de-0b3e-4661-ea6e-7c1dcee2176c"
      },
      "execution_count": 94,
      "outputs": [
        {
          "output_type": "execute_result",
          "data": {
            "text/plain": [
              "array(['1', 'a', '3', '4', '5'], dtype='<U21')"
            ]
          },
          "metadata": {},
          "execution_count": 94
        }
      ]
    },
    {
      "cell_type": "code",
      "source": [
        "#9. Using python, create a file with two numbers in it. Write a Python Program to (1) read the 2 numbers from the file, (2) add and subtract the numbers,\n",
        "# and (3) write the results in another file called 'result.txt' (include this file with your submission).**\n",
        "\n",
        "f=open(\"demofiles.txt\",\"w\")\n",
        "f.close()\n",
        "\n",
        "\n"
      ],
      "metadata": {
        "id": "niBBMOoUm3EM"
      },
      "execution_count": 25,
      "outputs": []
    },
    {
      "cell_type": "code",
      "source": [
        "numbers=[6,8]\n",
        "result=0\n",
        "\n",
        "\n",
        "    "
      ],
      "metadata": {
        "id": "PFyG1zHIoqs3"
      },
      "execution_count": 64,
      "outputs": []
    },
    {
      "cell_type": "code",
      "source": [
        "with open(\"demofiles.txt\",\"w\") as f:\n",
        "  for number in numbers:\n",
        "    f.write(str(number) + \"\\n\")\n",
        "    result+=int(number)\n",
        "  print('Done')\n",
        "f.close()\n",
        "result"
      ],
      "metadata": {
        "id": "f82Dcyu5t2m0"
      },
      "execution_count": 71,
      "outputs": []
    },
    {
      "cell_type": "code",
      "source": [
        "f1=open(\"result.txt\",\"w\")\n",
        "f1.write(str(result))\n"
      ],
      "metadata": {
        "colab": {
          "base_uri": "https://localhost:8080/"
        },
        "id": "nQwLe-3Bx0Mf",
        "outputId": "e1c4c596-4276-4b7f-fd76-bbe9eb85cb30"
      },
      "execution_count": 72,
      "outputs": [
        {
          "output_type": "stream",
          "name": "stdout",
          "text": [
            "Done\n"
          ]
        },
        {
          "output_type": "execute_result",
          "data": {
            "text/plain": [
              "14"
            ]
          },
          "metadata": {},
          "execution_count": 72
        }
      ]
    },
    {
      "cell_type": "code",
      "source": [
        "#10. Using the function enumerate() and a 'for' loop, determine the value of 'y' for a polynomial given the following:**\n",
        "#x = 6\n",
        "#coefs = [3,4,1]\n",
        "#y = coefs[0] * x ** 0 + coefs[1] * x ** 1 + coefs[2] * x ** 2\n",
        "#where coefs is a list containing coefficients for the:\n",
        "    #constant term (first list element),\n",
        "    #linear term (second list element), and \n",
        "    #quadratic term (third list element).\n",
        "x=6\n",
        "coefs=[3,4,1]\n",
        "y=0\n",
        "for count, value in enumerate(coefs):\n",
        "  y+=(coefs[count]*x)**count\n",
        "print(y)\n"
      ],
      "metadata": {
        "colab": {
          "base_uri": "https://localhost:8080/"
        },
        "id": "wqf8bPFzybPl",
        "outputId": "5e848186-1257-4c46-b4b6-b79fd5d80366"
      },
      "execution_count": 81,
      "outputs": [
        {
          "output_type": "stream",
          "name": "stdout",
          "text": [
            "61\n"
          ]
        }
      ]
    },
    {
      "cell_type": "code",
      "source": [],
      "metadata": {
        "colab": {
          "base_uri": "https://localhost:8080/"
        },
        "id": "zEfv6rcfyt4V",
        "outputId": "ac30aadc-37ee-4c84-899a-de14e3fcb815"
      },
      "execution_count": 74,
      "outputs": [
        {
          "output_type": "stream",
          "name": "stdout",
          "text": [
            "0 a\n",
            "1 b\n",
            "2 c\n"
          ]
        }
      ]
    },
    {
      "cell_type": "code",
      "source": [],
      "metadata": {
        "id": "0FadQnE8z1Gn"
      },
      "execution_count": null,
      "outputs": []
    },
    {
      "cell_type": "code",
      "source": [],
      "metadata": {
        "id": "TouoA1Qrz4QK"
      },
      "execution_count": null,
      "outputs": []
    }
  ]
}