{
  "nbformat": 4,
  "nbformat_minor": 0,
  "metadata": {
    "colab": {
      "provenance": [],
      "authorship_tag": "ABX9TyMUjJeaUJNc/PJfR3DI78iP",
      "include_colab_link": true
    },
    "kernelspec": {
      "name": "python3",
      "display_name": "Python 3"
    },
    "language_info": {
      "name": "python"
    }
  },
  "cells": [
    {
      "cell_type": "markdown",
      "metadata": {
        "id": "view-in-github",
        "colab_type": "text"
      },
      "source": [
        "<a href=\"https://colab.research.google.com/github/atenash/data-science-course/blob/main/JsonFileofStreamData.ipynb\" target=\"_parent\"><img src=\"https://colab.research.google.com/assets/colab-badge.svg\" alt=\"Open In Colab\"/></a>"
      ]
    },
    {
      "cell_type": "code",
      "execution_count": null,
      "metadata": {
        "id": "4IQO4pL5HMxL"
      },
      "outputs": [],
      "source": [
        "# !pip install tweepy==4.8.0\n",
        "# !pip install pprintpp\n",
        "#!pip install asposecells\n",
        "import tweepy as tw\n",
        "import json\n",
        "import pandas as pd\n",
        "\n"
      ]
    },
    {
      "cell_type": "code",
      "source": [
        "api_key = ''\n",
        "api_key_secret = ''\n",
        "bearer_token = ''\n",
        "access_token = ''\n",
        "access_token_secret = ''\n",
        "\n",
        "\n",
        "auth = tw.OAuthHandler(api_key, api_key_secret)\n",
        "auth.set_access_token(access_token, access_token_secret)\n",
        "\n",
        "\n",
        "api = tw.API(auth)\n",
        "\n",
        "class Linstener(tw.Stream):\n",
        "        tweets = []\n",
        "        limit =400\n",
        "        def on_status(self, status):\n",
        "            self.tweets.append(status)\n",
        "            status._json\n",
        "            json_object=json.dumps(status._json,indent=4)\n",
        "            with open('streamData.json','a') as outfile:\n",
        "              outfile.write(json_object)\n",
        "\n",
        "            if len(self.tweets) == self.limit:\n",
        "                self.disconnect()\n",
        "\n",
        "stream = Linstener(api_key, api_key_secret, access_token, access_token_secret)\n",
        "keywords = ['elon musk','Iran','Joe biden','python','data']\n",
        "\n",
        "language = ['en']\n",
        "\n",
        "stream.filter(track=keywords, languages=language)\n",
        "\n"
      ],
      "metadata": {
        "id": "nTN8qHM5HZH5",
        "colab": {
          "base_uri": "https://localhost:8080/"
        },
        "outputId": "b8d5b8c8-0731-4086-f0d0-85ce7ec3b73a"
      },
      "execution_count": null,
      "outputs": [
        {
          "output_type": "stream",
          "name": "stderr",
          "text": [
            "ERROR:tweepy.streaming:Stream connection closed by Twitter\n"
          ]
        }
      ]
    },
    {
      "cell_type": "code",
      "source": [
        "     \n"
      ],
      "metadata": {
        "id": "WInL89UJRZex"
      },
      "execution_count": null,
      "outputs": []
    },
    {
      "cell_type": "code",
      "source": [],
      "metadata": {
        "id": "6msbSonnRy_w"
      },
      "execution_count": null,
      "outputs": []
    }
  ]
}