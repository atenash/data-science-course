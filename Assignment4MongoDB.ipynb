{
  "nbformat": 4,
  "nbformat_minor": 0,
  "metadata": {
    "colab": {
      "provenance": [],
      "authorship_tag": "ABX9TyNwDxuNXgQI5MzUU4WYqZNo",
      "include_colab_link": true
    },
    "kernelspec": {
      "name": "python3",
      "display_name": "Python 3"
    },
    "language_info": {
      "name": "python"
    }
  },
  "cells": [
    {
      "cell_type": "markdown",
      "metadata": {
        "id": "view-in-github",
        "colab_type": "text"
      },
      "source": [
        "<a href=\"https://colab.research.google.com/github/atenash/data-science-course/blob/main/Assignment4MongoDB.ipynb\" target=\"_parent\"><img src=\"https://colab.research.google.com/assets/colab-badge.svg\" alt=\"Open In Colab\"/></a>"
      ]
    },
    {
      "cell_type": "markdown",
      "source": [
        "**Import Libraries**"
      ],
      "metadata": {
        "id": "N0JF2VSi7_st"
      }
    },
    {
      "cell_type": "code",
      "source": [
        "import pymongo\n",
        "import json\n",
        "import requests"
      ],
      "metadata": {
        "id": "3Tqg_OQv8EeC"
      },
      "execution_count": null,
      "outputs": []
    },
    {
      "cell_type": "markdown",
      "source": [
        "**Create Database and Collection**"
      ],
      "metadata": {
        "id": "Eo4ASS7L8H1u"
      }
    },
    {
      "cell_type": "code",
      "source": [
        "myclient=pymongo.MongoClient('mongodb://localhost:27017')\n",
        "mydb=myclient['spotify']\n",
        "mycol=mydb['album']"
      ],
      "metadata": {
        "id": "S_GwvExI8jGT"
      },
      "execution_count": null,
      "outputs": []
    },
    {
      "cell_type": "markdown",
      "source": [
        "**Data Access Automation**"
      ],
      "metadata": {
        "id": "DnCo_ItQ-Q2W"
      }
    },
    {
      "cell_type": "code",
      "source": [
        "my_url='https://api.spotify.com/v1/search?q=artist:Adele&type=album&limit=10&offset='\n",
        "\n",
        "my_token='Bearer BQDkh4fSwNutcxGLDgmv9bFtXY4iuyNgcrAvxfv7kTL_qUqQjPRnPzzTXuRUihz6IiY7Ux7MuwTLytWjFx0Bkeyqe141_FLvoVmCNsAiO4AkdWMmOqANhVXNkSGGfQ8pv9yGrYd1poONBdYndzAHzSjZkDOBA731HCCVWGLvwuLYVkzCwlF0F-tU9ul0y1u62n0'\n",
        "my_headers={'authorization':my_token}\n",
        "\n",
        "def collect_data(url,page_number):\n",
        "    for i in range(0,page_number):\n",
        "        base_url=url + str(i)\n",
        "        response=requests.get(base_url,headers=my_headers).json()\n",
        "        mycol.insert_one(response)\n",
        "\n",
        "collect_data(my_url,10) "
      ],
      "metadata": {
        "id": "7XYKfptx-Yzu"
      },
      "execution_count": null,
      "outputs": []
    },
    {
      "cell_type": "markdown",
      "source": [
        "**Queries**"
      ],
      "metadata": {
        "id": "2u4SJy7f-qx1"
      }
    },
    {
      "cell_type": "markdown",
      "source": [
        "The albums are returned only"
      ],
      "metadata": {
        "id": "FGuDm9PW-2-Q"
      }
    },
    {
      "cell_type": "code",
      "source": [
        "for x in mycol.find({},{'_id':0}):\n",
        "    print(x)"
      ],
      "metadata": {
        "id": "JvG6jqUK-vP7"
      },
      "execution_count": null,
      "outputs": []
    },
    {
      "cell_type": "markdown",
      "source": [
        "Return albums with the name ‘Rolling in the deep’"
      ],
      "metadata": {
        "id": "sWNPwiqn_BLx"
      }
    },
    {
      "cell_type": "code",
      "source": [
        "for x in mycol.find({'albums.items.name':'Rolling in the deep'}):\n",
        "    print(x)"
      ],
      "metadata": {
        "id": "BooxeL_d_Lq7"
      },
      "execution_count": null,
      "outputs": []
    },
    {
      "cell_type": "markdown",
      "source": [
        "Return albums with the release date of '2011-01-16'"
      ],
      "metadata": {
        "id": "ti4ntuZw_bMh"
      }
    },
    {
      "cell_type": "code",
      "source": [
        "for x in mycol.find({'albums.items.release_date':'2011-01-16'}):\n",
        "    print(x)"
      ],
      "metadata": {
        "id": "0pesG5mS_viy"
      },
      "execution_count": null,
      "outputs": []
    }
  ]
}