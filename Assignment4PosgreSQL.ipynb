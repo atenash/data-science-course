{
  "nbformat": 4,
  "nbformat_minor": 0,
  "metadata": {
    "colab": {
      "provenance": [],
      "authorship_tag": "ABX9TyNQhDBL2iQDieVw9jsyv11Q",
      "include_colab_link": true
    },
    "kernelspec": {
      "name": "python3",
      "display_name": "Python 3"
    },
    "language_info": {
      "name": "python"
    }
  },
  "cells": [
    {
      "cell_type": "markdown",
      "metadata": {
        "id": "view-in-github",
        "colab_type": "text"
      },
      "source": [
        "<a href=\"https://colab.research.google.com/github/atenash/data-science-course/blob/main/Assignment4PosgreSQL.ipynb\" target=\"_parent\"><img src=\"https://colab.research.google.com/assets/colab-badge.svg\" alt=\"Open In Colab\"/></a>"
      ]
    },
    {
      "cell_type": "markdown",
      "source": [
        "**Import libraries**"
      ],
      "metadata": {
        "id": "0r1OxXIYzuYj"
      }
    },
    {
      "cell_type": "code",
      "source": [
        "import requests\n",
        "import json\n",
        "import pandas as pd\n",
        "import csv\n",
        "import psycopg2"
      ],
      "metadata": {
        "id": "K99BcfkW0Nia"
      },
      "execution_count": null,
      "outputs": []
    },
    {
      "cell_type": "markdown",
      "source": [
        "**Make a connection to PostgreSQL**"
      ],
      "metadata": {
        "id": "HAMyjkoK1RnE"
      }
    },
    {
      "cell_type": "code",
      "source": [
        "conn = psycopg2.connect(database=\"db_name\",\n",
        "                        user='postgres', password='', \n",
        "                        host='', port='5432'\n",
        ")\n",
        "\n",
        "conn.autocommit = True\n",
        "cursor = conn.cursor()"
      ],
      "metadata": {
        "id": "vjjlUqFD0O3z"
      },
      "execution_count": null,
      "outputs": []
    },
    {
      "cell_type": "markdown",
      "source": [
        "**Create the Table**"
      ],
      "metadata": {
        "id": "TyPvKpVp2NES"
      }
    },
    {
      "cell_type": "code",
      "source": [
        "sql = \"\"\"\n",
        "    Create table if not exists house_prices (\n",
        "    id serial primary key,\n",
        "    MSSubclass integer,\n",
        "    MSZoning varchar(10),\n",
        "    Lotfrontage float,\n",
        "    LotArea integer,\n",
        "    Street varchar(10),\n",
        "    Alley varchar(10),\n",
        "    LotShape varchar(10),\n",
        "    LandContour varchar(10),\n",
        "    Utilities varchar(10),\n",
        "    LotConfig varchar(10),\n",
        "    LandSlope varchar(10),\n",
        "    Neighboorhood varchar(20),\n",
        "    Condition1 varchar(20),\n",
        "    Condition2 varchar(20),\n",
        "    BldgType varchar(10),\n",
        "    HouseStyle varchar(10),\n",
        "    OverallQual integer,\n",
        "    OverallCond integer,\n",
        "    YearBuilt integer,\n",
        "    YearRemodAdd integer,\n",
        "    RoofStyle varchar(10),\n",
        "    RoofMatl varchar(10),\n",
        "    Exterior1st varchar(20),\n",
        "    Exterior2nd varchar(20),\n",
        "    MasVnrType varchar(20),\n",
        "    )\n",
        "    \"\"\"\n",
        "   \n",
        "cursor.execute(sql)"
      ],
      "metadata": {
        "id": "oY20blU62Qf2"
      },
      "execution_count": null,
      "outputs": []
    },
    {
      "cell_type": "markdown",
      "source": [
        "**Insert Data to the table**"
      ],
      "metadata": {
        "id": "iglswDWG7uli"
      }
    },
    {
      "cell_type": "code",
      "source": [
        "sql2 = '''COPY house_prices(id serial primary key,\n",
        "    MSSubclass integer,\n",
        "    MSZoning varchar(10),\n",
        "    Lotfrontage float,\n",
        "    LotArea integer,\n",
        "    Street varchar(10),\n",
        "    Alley varchar(10),\n",
        "    LotShape varchar(10),\n",
        "    LandContour varchar(10),\n",
        "    Utilities varchar(10),\n",
        "    LotConfig varchar(10),\n",
        "    LandSlope varchar(10),\n",
        "    Neighboorhood varchar(20),\n",
        "    Condition1 varchar(20),\n",
        "    Condition2 varchar(20),\n",
        "    BldgType varchar(10),\n",
        "    HouseStyle varchar(10),\n",
        "    OverallQual integer,\n",
        "    OverallCond integer,\n",
        "    YearBuilt integer,\n",
        "    YearRemodAdd integer,\n",
        "    RoofStyle varchar(10),\n",
        "    RoofMatl varchar(10),\n",
        "    Exterior1st varchar(20),\n",
        "    Exterior2nd varchar(20),\n",
        "    MasVnrType varchar(20),)\n",
        "FROM 'E:\\Data Science\\\\assignment\\\\4\\\\train.csv'\n",
        "DELIMITER ','\n",
        "CSV HEADER;'''\n",
        "  \n",
        "cursor.execute(sql2)"
      ],
      "metadata": {
        "id": "0FtbhIkU7zK2"
      },
      "execution_count": null,
      "outputs": []
    },
    {
      "cell_type": "markdown",
      "source": [
        "**SQL Queries**"
      ],
      "metadata": {
        "id": "rDEKYYNd_-M8"
      }
    },
    {
      "cell_type": "markdown",
      "source": [
        "Find the average sale price of houses in each neighborhood\n",
        "\n",
        "Find the most expensive house and its characteristics\n",
        "\n",
        "Find the average sale price of houses with central air conditioning versus those without"
      ],
      "metadata": {
        "id": "CAIpUz4gBePU"
      }
    },
    {
      "cell_type": "markdown",
      "source": [],
      "metadata": {
        "id": "gk7Z7_9D5DPu"
      }
    },
    {
      "cell_type": "code",
      "source": [
        "sql3 = '''select neighborhood, AVG(saleprice) as avg_sale_price\n",
        "          from house_prices\n",
        "          GROUP BY neighborhood\n",
        "          ORDER BY avg_sale_price DESC;'''\n",
        "cursor.execute(sql3)\n",
        "\n",
        "\n",
        "sql4= '''select *\n",
        "          from house_prices\n",
        "          WHERE saleprice= (\n",
        "            SELECT MAX(saleprice)\n",
        "            FROM house_prices);'''\n",
        "cursor.execute(sql4)\n",
        "\n",
        "\n",
        "\n",
        "sql5= '''select centralair, AVG(saleprice) AS avg_sale_price\n",
        "          from house_prices\n",
        "          GROUP BY centralair;'''\n",
        "cursor.execute(sql5)\n",
        "\n",
        "\n",
        "for i in cursor.fetchall():\n",
        "    print(i)\n",
        "  \n",
        "conn.commit()\n",
        "conn.close()\n",
        "\n"
      ],
      "metadata": {
        "id": "lPLu5n8dADMD"
      },
      "execution_count": null,
      "outputs": []
    }
  ]
}